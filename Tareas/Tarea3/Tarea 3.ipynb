{
 "cells": [
  {
   "cell_type": "markdown",
   "id": "critical-analyst",
   "metadata": {},
   "source": [
    "<center>\n",
    "<h1> SOLUCIÓN TAREA 3</h1>\n",
    "<h3>Diego Godoy Rojas & Luis Carlos Diaz </h3>\n",
    "</center>\n"
   ]
  },
  {
   "cell_type": "markdown",
   "id": "conservative-hampshire",
   "metadata": {},
   "source": [
    "Empezamos cargando la imagen junto con las librerias que se van utilizar:\n",
    "\n",
    "Parrafo añadido por Luis Carlos"
   ]
  },
  {
   "cell_type": "code",
   "execution_count": null,
   "id": "central-greeting",
   "metadata": {},
   "outputs": [],
   "source": [
    "#IMPORTAR LIBRERIAS\n",
    "import cv2\n",
    "from IPython.display import Image\n",
    "import numpy as np\n",
    "from matplotlib import pyplot as plt"
   ]
  },
  {
   "cell_type": "code",
   "execution_count": null,
   "id": "sustained-israel",
   "metadata": {},
   "outputs": [],
   "source": [
    "#CARGAR LA IMAGEN\n",
    "img = cv2.imread('Fig/img1.jpg', 0)\n",
    "#VISUALIZAR LA IMAGEN\n",
    "plt.title(\"IMAGEN ORIGINAL\")\n",
    "plt.figure(1,figsize=[7, 7])\n",
    "plt.imshow(img, cmap='gray')"
   ]
  }
 ],
 "metadata": {
  "kernelspec": {
   "display_name": "Python 3",
   "language": "python",
   "name": "python3"
  },
  "language_info": {
   "codemirror_mode": {
    "name": "ipython",
    "version": 3
   },
   "file_extension": ".py",
   "mimetype": "text/x-python",
   "name": "python",
   "nbconvert_exporter": "python",
   "pygments_lexer": "ipython3",
   "version": "3.8.5"
  }
 },
 "nbformat": 4,
 "nbformat_minor": 5
}
