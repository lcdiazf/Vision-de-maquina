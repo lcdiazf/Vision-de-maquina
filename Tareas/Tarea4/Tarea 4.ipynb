{
 "cells": [
  {
   "cell_type": "markdown",
   "id": "literary-middle",
   "metadata": {},
   "source": [
    "<center>\n",
    "<h1> SOLUCIÓN TAREA 4</h1>\n",
    "<h3>Diego Godoy Rojas & Luis Carlos Diaz </h3>\n",
    "</center>\n"
   ]
  },
  {
   "cell_type": "markdown",
   "id": "relative-bangladesh",
   "metadata": {},
   "source": [
    "<h1>PRIMER PUNTO</h1> Implementar, en OpenCV, tres de los filtros para reducción de ruido Speckle vistos en clase."
   ]
  },
  {
   "cell_type": "markdown",
   "id": "ordered-blake",
   "metadata": {},
   "source": [
    "<h1>SEGUNDO PUNTO</h1>Implementar, en OpenCV, cinco de las técnicas de estimación del nivel de ruido vistas en clase."
   ]
  },
  {
   "cell_type": "markdown",
   "id": "complete-scanning",
   "metadata": {},
   "source": [
    "<h1>TERCER PUNTO</h1>Evaluar el desempeño de los filtros implementados (estimar el nivel de ruido en las imágenes antes y después de filtradas), al ser aplicados sobre imágenes reales y sobre imágenes sintéticas (creadas artificialmente), con\n",
    "diferentes niveles de ruido multiplicativo."
   ]
  }
 ],
 "metadata": {
  "kernelspec": {
   "display_name": "Python 3",
   "language": "python",
   "name": "python3"
  },
  "language_info": {
   "codemirror_mode": {
    "name": "ipython",
    "version": 3
   },
   "file_extension": ".py",
   "mimetype": "text/x-python",
   "name": "python",
   "nbconvert_exporter": "python",
   "pygments_lexer": "ipython3",
   "version": "3.9.1"
  }
 },
 "nbformat": 4,
 "nbformat_minor": 5
}
